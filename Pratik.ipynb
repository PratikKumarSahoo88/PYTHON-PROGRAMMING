{
 "cells": [
  {
   "cell_type": "code",
   "execution_count": 1,
   "id": "5cfea598-bec9-4276-b1f3-c2aa90e7b8e3",
   "metadata": {},
   "outputs": [
    {
     "name": "stdout",
     "output_type": "stream",
     "text": [
      "hello pratik\n"
     ]
    }
   ],
   "source": [
    "print(\"hello pratik\")"
   ]
  },
  {
   "cell_type": "code",
   "execution_count": 1,
   "id": "24d1c92f-9813-417d-abe3-132f9cfb6256",
   "metadata": {},
   "outputs": [
    {
     "name": "stdout",
     "output_type": "stream",
     "text": [
      "a in the given list\n"
     ]
    }
   ],
   "source": [
    "a=10\n",
    "b=20\n",
    "list=[10,20,30,40,50];\n",
    "if(a in list):\n",
    "    print(\"a in the given list\")\n",
    "else:\n",
    "    print(\"a is not in a given list\")\n",
    "    "
   ]
  },
  {
   "cell_type": "code",
   "execution_count": 2,
   "id": "c6d27abd-5439-4372-84ce-2d1b89c9921b",
   "metadata": {},
   "outputs": [
    {
     "name": "stdout",
     "output_type": "stream",
     "text": [
      "[2, 3]\n"
     ]
    }
   ],
   "source": [
    "list=[1,2,3,4]\n",
    "print(list[1:3:1])\n"
   ]
  },
  {
   "cell_type": "code",
   "execution_count": 4,
   "id": "e80c351e-c1ac-4221-8ee4-1622463f396f",
   "metadata": {},
   "outputs": [
    {
     "name": "stdout",
     "output_type": "stream",
     "text": [
      "(23, 12)\n"
     ]
    }
   ],
   "source": [
    "tuple=('pratik',23,12,'sahoo')\n",
    "print(tuple[1:3:1])\n"
   ]
  },
  {
   "cell_type": "code",
   "execution_count": 5,
   "id": "61fdfc70-9022-49be-9cc1-5035c209c907",
   "metadata": {},
   "outputs": [
    {
     "name": "stdout",
     "output_type": "stream",
     "text": [
      "('sahoo', 12, 23, 'pratik')\n"
     ]
    }
   ],
   "source": [
    "tuple=('pratik',23,12,'sahoo')\n",
    "print(tuple[::-1])"
   ]
  },
  {
   "cell_type": "code",
   "execution_count": 2,
   "id": "bb139893-164d-41b2-9b71-ba2e32389834",
   "metadata": {},
   "outputs": [
    {
     "name": "stdout",
     "output_type": "stream",
     "text": [
      "10 20 30\n",
      "<class 'int'>\n"
     ]
    }
   ],
   "source": [
    "a = 10 \n",
    "b = 20 \n",
    "c = 30 \n",
    "print(a, b, c)   \n",
    "print(type(b))\n"
   ]
  },
  {
   "cell_type": "code",
   "execution_count": 8,
   "id": "d4573b37-7161-4561-9401-21ab25c64563",
   "metadata": {},
   "outputs": [
    {
     "name": "stdin",
     "output_type": "stream",
     "text": [
      "enter first number 10\n",
      "enter second number 20\n"
     ]
    },
    {
     "name": "stdout",
     "output_type": "stream",
     "text": [
      "Sum  is 1020\n"
     ]
    }
   ],
   "source": [
    "a = input(\"enter first number\") \n",
    "b = input(\"enter second number\") \n",
    "c=a+b\n",
    "print(\"Sum  is\"  , c) "
   ]
  },
  {
   "cell_type": "code",
   "execution_count": 9,
   "id": "039effa5-1fb5-4038-b294-5b8eee1a981c",
   "metadata": {},
   "outputs": [
    {
     "name": "stdin",
     "output_type": "stream",
     "text": [
      "enter first number 10\n",
      "enter second number 20\n"
     ]
    },
    {
     "name": "stdout",
     "output_type": "stream",
     "text": [
      "Sum  is  30\n"
     ]
    }
   ],
   "source": [
    "a = int(input(\"enter first number\")) \n",
    "b = int(input(\"enter second number\")) \n",
    "print(\"Sum  is \", a + b) "
   ]
  },
  {
   "cell_type": "code",
   "execution_count": 11,
   "id": "933bfb15-bb8b-49e1-89ec-5076cdfe6d0e",
   "metadata": {},
   "outputs": [
    {
     "name": "stdin",
     "output_type": "stream",
     "text": [
      "Enter the First number :  10\n",
      "Enter the Second number :  30\n",
      "Enter the third number :  5\n"
     ]
    },
    {
     "name": "stdout",
     "output_type": "stream",
     "text": [
      "The largest number is  30\n"
     ]
    }
   ],
   "source": [
    "a = int(input(\"Enter the First number : \")) \n",
    "b = int(input(\"Enter the Second number : \")) \n",
    "c = int(input(\"Enter the third number : \")) \n",
    "if  a > b: \n",
    "   large = a \n",
    "if  b > a: \n",
    "  large = b \n",
    "if  c >  large: \n",
    "  large = c \n",
    "print(\"The largest number is \", large)"
   ]
  },
  {
   "cell_type": "code",
   "execution_count": 12,
   "id": "1815a933-630f-423a-b335-c97684e3a7f7",
   "metadata": {},
   "outputs": [
    {
     "name": "stdin",
     "output_type": "stream",
     "text": [
      "Enter a number: 10\n",
      "Enter second number: 20\n"
     ]
    },
    {
     "name": "stdout",
     "output_type": "stream",
     "text": [
      "The largest number is: 20\n"
     ]
    }
   ],
   "source": [
    "a=int(input(\"Enter a number:\"))\n",
    "b=int(input(\"Enter second number:\"))\n",
    "if a>b:\n",
    "    large=a;\n",
    "else:\n",
    "    large=b;\n",
    "print(\"The largest number is:\",large);"
   ]
  },
  {
   "cell_type": "code",
   "execution_count": 15,
   "id": "fc8bb717-6a58-4e70-9fda-b6eca363e8fd",
   "metadata": {},
   "outputs": [
    {
     "name": "stdin",
     "output_type": "stream",
     "text": [
      "Enter the Number: 56\n"
     ]
    },
    {
     "name": "stdout",
     "output_type": "stream",
     "text": [
      "Given number is Even\n"
     ]
    }
   ],
   "source": [
    "n = int(input(\"Enter the Number:\"))  \n",
    "if n % 2 == 0:  \n",
    "  print(\"Given number is Even\")  \n",
    "else:  \n",
    "    print(\"Given number is Odd\") "
   ]
  },
  {
   "cell_type": "code",
   "execution_count": 16,
   "id": "56d44d1c-1423-493e-9057-40d4460b448a",
   "metadata": {},
   "outputs": [
    {
     "name": "stdin",
     "output_type": "stream",
     "text": [
      "Enter the Alphabet : p\n"
     ]
    },
    {
     "name": "stdout",
     "output_type": "stream",
     "text": [
      "p is a consonant\n"
     ]
    }
   ],
   "source": [
    "c = (input(\"Enter the Alphabet :\")) \n",
    "if  c == 'a'  or  c == 'e'  or  c == 'i'  or  c == 'o'  or  c == 'u' : \n",
    "    print(c, \"is a vowel\")   \n",
    "else: \n",
    "    print(c, \"is a consonant\") "
   ]
  },
  {
   "cell_type": "code",
   "execution_count": 17,
   "id": "8e7d8ad3-0533-4cc4-bf95-8fc0f92f663d",
   "metadata": {},
   "outputs": [
    {
     "name": "stdin",
     "output_type": "stream",
     "text": [
      "Enter a number:  143\n"
     ]
    },
    {
     "name": "stdout",
     "output_type": "stream",
     "text": [
      "143 is not an Armstrong number\n"
     ]
    }
   ],
   "source": [
    "num = int(input(\"Enter a number: \")) \n",
    "a = num // 100 \n",
    "b = (num // 10) %10 \n",
    "c = num%10 \n",
    "r = (a**3) + (b**3) + (c**3); \n",
    "if  r == num: \n",
    "    print(num,\"is an Armstrong number\") \n",
    "else: \n",
    "    print(num,\"is not an Armstrong number\") "
   ]
  },
  {
   "cell_type": "code",
   "execution_count": 19,
   "id": "d14382c0-a09d-4db6-aae2-5d90f226e51a",
   "metadata": {},
   "outputs": [
    {
     "name": "stdin",
     "output_type": "stream",
     "text": [
      "Enter the Year :  2024\n"
     ]
    },
    {
     "name": "stdout",
     "output_type": "stream",
     "text": [
      "Leap Year\n"
     ]
    }
   ],
   "source": [
    "year = int(input(\"Enter the Year : \")) \n",
    "if (year%400 == 0) or (year%4==0 and year%100!=0): \n",
    "    print(\"Leap Year\") \n",
    "else: \n",
    "    print(\"Not a Leap Year\") "
   ]
  },
  {
   "cell_type": "code",
   "execution_count": 21,
   "id": "495c39b4-84d3-47c8-9fff-99593fd943df",
   "metadata": {},
   "outputs": [
    {
     "name": "stdin",
     "output_type": "stream",
     "text": [
      "Enter the First number :  20\n",
      "Enter the Second number :  30\n",
      "Enter the third number :  80\n"
     ]
    },
    {
     "name": "stdout",
     "output_type": "stream",
     "text": [
      "The largest number is  80\n"
     ]
    }
   ],
   "source": [
    "a = int(input(\"Enter the First number : \")) \n",
    "b = int(input(\"Enter the Second number : \")) \n",
    "c = int(input(\"Enter the third number : \")) \n",
    "if  a>b  and  a>c : \n",
    "    large = a \n",
    "elif  b>a  and  b>c : \n",
    "    large = b \n",
    "else : \n",
    "    large = c \n",
    "print(\"The largest number is \", large) \n"
   ]
  },
  {
   "cell_type": "code",
   "execution_count": 24,
   "id": "53382ab7-bff7-4ca4-adb2-b6d4b06d572b",
   "metadata": {},
   "outputs": [
    {
     "name": "stdin",
     "output_type": "stream",
     "text": [
      "Enter the Mark: 95\n"
     ]
    },
    {
     "name": "stdout",
     "output_type": "stream",
     "text": [
      "The student Grade is  O\n"
     ]
    }
   ],
   "source": [
    "mark = int(input('Enter the Mark:')) \n",
    "if  mark >= 90: \n",
    "    grade = 'O' \n",
    "elif  mark >= 80: \n",
    "    grade = 'E' \n",
    "elif  mark >= 70: \n",
    "    grade = 'A' \n",
    "elif  mark >= 60: \n",
    "    grade = 'B' \n",
    "elif  mark >= 50: \n",
    "    grade = 'C' \n",
    "else: \n",
    "    grade = 'F' \n",
    "print(\"The student Grade is \",grade)"
   ]
  },
  {
   "cell_type": "code",
   "execution_count": 37,
   "id": "b1a26aa5-a9e0-407f-a02c-ff8701c9cdb3",
   "metadata": {},
   "outputs": [
    {
     "name": "stdout",
     "output_type": "stream",
     "text": [
      "Welcome to State Bank of India\n"
     ]
    },
    {
     "name": "stdin",
     "output_type": "stream",
     "text": [
      "Enter your 4-digit PIN number:  1234\n"
     ]
    },
    {
     "name": "stdout",
     "output_type": "stream",
     "text": [
      "1 - Withdraw\n",
      "2 - Balance Enquiry\n"
     ]
    },
    {
     "name": "stdin",
     "output_type": "stream",
     "text": [
      "Please choose your transaction (1 or 2):  1\n",
      "Enter withdrawal amount:  899999\n"
     ]
    },
    {
     "name": "stdout",
     "output_type": "stream",
     "text": [
      "Insufficient balance\n"
     ]
    }
   ],
   "source": [
    "print(\"Welcome to State Bank of India\")\n",
    "\n",
    "\n",
    "p = int(input(\"Enter your 4-digit PIN number: \"))\n",
    "b = 50000   \n",
    "\n",
    "if p == 1234:\n",
    "    print(\"1 - Withdraw\")\n",
    "    print(\"2 - Balance Enquiry\")\n",
    "\n",
    "    t = int(input(\"Please choose your transaction (1 or 2): \"))\n",
    "\n",
    "    if t == 1:\n",
    "        w = int(input(\"Enter withdrawal amount: \"))\n",
    "\n",
    "        if w > b:\n",
    "            print(\"Insufficient balance\")\n",
    "        else:\n",
    "            b =b-w \n",
    "            print(\"Withdrawal successful. Please take your cash.\")\n",
    "            print(\"Remaining balance:\", b)\n",
    "\n",
    "    elif t == 2:\n",
    "        print(\"Your available balance:\", b)\n",
    "    \n",
    "    else:\n",
    "        print(\"Invalid transaction choice.\")\n",
    "\n",
    "else:\n",
    "    print(\"Wrong PIN number\")\n"
   ]
  },
  {
   "cell_type": "code",
   "execution_count": null,
   "id": "9c9c9530-8f30-4954-918e-738732051c8c",
   "metadata": {},
   "outputs": [],
   "source": []
  }
 ],
 "metadata": {
  "kernelspec": {
   "display_name": "Python 3 (ipykernel)",
   "language": "python",
   "name": "python3"
  },
  "language_info": {
   "codemirror_mode": {
    "name": "ipython",
    "version": 3
   },
   "file_extension": ".py",
   "mimetype": "text/x-python",
   "name": "python",
   "nbconvert_exporter": "python",
   "pygments_lexer": "ipython3",
   "version": "3.12.7"
  }
 },
 "nbformat": 4,
 "nbformat_minor": 5
}
